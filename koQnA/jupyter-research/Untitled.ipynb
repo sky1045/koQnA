{
 "cells": [
  {
   "cell_type": "code",
   "execution_count": 1,
   "metadata": {},
   "outputs": [],
   "source": [
    "import requests\n",
    "from lxml import etree\n",
    "# import StringIO\n",
    "\n",
    "def list_request(page_no, keyword=''):\n",
    "    url=\"http://api.epeople.go.kr/soap/CivilAppealPolicyQnAService?wsdl\"\n",
    "    headers = {'content-type': 'text/xml; charset=UTF-8'}\n",
    "    body = \"\"\"\n",
    "    <soap:Envelope xmlns:soap=\"http://schemas.xmlsoap.org/soap/envelope/\" xmlns:ns3=\"http://apache.org/headers\" xmlns:ns2=\"http://soap.qna.pc.acrc/\" xmlns:xsi=\"http://www.w3.org/2001/XMLSchema-instance\" xsi:nil=\"true\">\n",
    "       <soap:Header>\n",
    "       </soap:Header>\n",
    "       <soap:Body>\n",
    "          <ns2:getCivilAppealPolicyQnaList>\n",
    "             <QnaListRequest>\n",
    "                <type>1</type>\n",
    "                <nowPageNo>{0}</nowPageNo>\n",
    "                <keyword>{1}</keyword>\n",
    "                <pageMg>10</pageMg>\n",
    "             </QnaListRequest>\n",
    "          </ns2:getCivilAppealPolicyQnaList>\n",
    "       </soap:Body>\n",
    "    </soap:Envelope>\n",
    "    \"\"\".format(page_no, keyword).encode('utf8')\n",
    "    response = requests.post(url,data=body,headers=headers)\n",
    "    content = response.content.decode('utf8')\n",
    "    root = etree.fromstring(content)\n",
    "    return root\n",
    "\n",
    "def get_item_request(faq_no, peti_no, civil_no):\n",
    "    url=\"http://api.epeople.go.kr/soap/CivilAppealPolicyQnAService?wsdl\"\n",
    "    headers = {'content-type': 'text/xml; charset=UTF-8'}\n",
    "    body = \"\"\"\n",
    "    <soap:Envelope xmlns:soap=\"http://schemas.xmlsoap.org/soap/envelope/\" xmlns:ns3=\"http://apache.org/headers\" xmlns:ns2=\"http://soap.qna.pc.acrc/\" xmlns:xsi=\"http://www.w3.org/2001/XMLSchema-instance\" xsi:nil=\"true\">\n",
    "       <soap:Header>\n",
    "\n",
    "       </soap:Header>\n",
    "       <soap:Body>\n",
    "          <ns2:getCivilAppealPolicyQnaItem>\n",
    "             <QnaItemRequest>\n",
    "                <faqNo>{0}</faqNo>\n",
    "                <petiNo>{1}</petiNo>\n",
    "                <civilNo>{2}</civilNo>\n",
    "                <type>3</type>\n",
    "             </QnaItemRequest>\n",
    "          </ns2:getCivilAppealPolicyQnaItem>\n",
    "       </soap:Body>\n",
    "    </soap:Envelope>\n",
    "    \"\"\".format(faq_no, peti_no, civil_no).encode('utf8')\n",
    "    response = requests.post(url,data=body,headers=headers)\n",
    "    content = response.content.decode('utf8')\n",
    "    print(content)\n",
    "    return content"
   ]
  },
  {
   "cell_type": "code",
   "execution_count": 8,
   "metadata": {},
   "outputs": [
    {
     "name": "stdout",
     "output_type": "stream",
     "text": [
      "{http://schemas.xmlsoap.org/soap/envelope/}Envelope\n",
      "b'<soap:Envelope xmlns:soap=\"http://schemas.xmlsoap.org/soap/envelope/\">\\n  <soap:Body>\\n    <ns2:getCivilAppealPolicyQnaListResponse xmlns:ns2=\"http://soap.qna.pc.acrc/\">\\n      <QnaListResponse>\\n        <totcnt>25000</totcnt>\\n        <QnaListInfo>\\n          <ancName>&#49436;&#50872;&#53945;&#48324;&#49884; &#47560;&#54252;&#44396;</ancName>\\n          <civilNo>3130000</civilNo>\\n          <faqNo>552450</faqNo>\\n          <petiNo>A000001570</petiNo>\\n          <regDate>2019-09-21 13:00:46</regDate>\\n          <title>&#51109;&#50528;&#51064; &#48373;&#51648;&#52852;&#46300; &#49888;&#52397;&#48169;&#48277; &#48143; &#52376;&#47532;</title>\\n          <type>2</type>\\n        </QnaListInfo>\\n        <QnaListInfo>\\n          <ancName>&#44221;&#44592;&#46020; &#44305;&#47749;&#49884;</ancName>\\n          <civilNo>3900000</civilNo>\\n          <faqNo>552449</faqNo>\\n          <petiNo>A000001770</petiNo>\\n          <regDate>2019-09-21 12:51:52</regDate>\\n          <title>&#50640;&#45320;&#51648;&#48148;&#50864;&#52376; &#49888;&#52397; &#48169;&#48277;&#51060;&#46993; &#49324;&#50857; &#48169;&#48277;&#51060; &#44417;&#44552;&#54633;&#45768;&#45796;.</title>\\n          <type>2</type>\\n        </QnaListInfo>\\n        <QnaListInfo>\\n          <ancName>&#44221;&#44592;&#46020; &#44305;&#47749;&#49884;</ancName>\\n          <civilNo>3900000</civilNo>\\n          <faqNo>552439</faqNo>\\n          <petiNo>A000001748</petiNo>\\n          <regDate>2019-09-21 12:48:35</regDate>\\n          <title>&#45453;&#50629;&#51064; &#54869;&#51064;&#49436; &#48156;&#44553;&#48155;&#44256; &#49910;&#49845;&#45768;&#45796;. &#51452;&#48124;&#49468;&#53552;&#50640;&#49436;&#46020; &#48156;&#44553; &#44032;&#45733;&#54620;&#44032;&#50836;?</title>\\n          <type>2</type>\\n        </QnaListInfo>\\n        <QnaListInfo>\\n          <ancName>&#44221;&#44592;&#46020; &#44305;&#47749;&#49884;</ancName>\\n          <civilNo>3900000</civilNo>\\n          <faqNo>552448</faqNo>\\n          <petiNo>A000001748</petiNo>\\n          <regDate>2019-09-21 12:45:19</regDate>\\n          <title>&#45453;&#51648;&#50896;&#48512;&#47484; &#46321;&#51116;&#54616;&#44256; &#48156;&#44553;&#48155;&#44256; &#49910;&#49845;&#45768;&#45796;. &#50612;&#46523;&#44172; &#54616;&#47732; &#46112;&#44620;&#50836;?</title>\\n          <type>2</type>\\n        </QnaListInfo>\\n        <QnaListInfo>\\n          <ancName>&#49436;&#50872;&#53945;&#48324;&#49884; &#47560;&#54252;&#44396;</ancName>\\n          <civilNo>3130000</civilNo>\\n          <faqNo>552447</faqNo>\\n          <petiNo>A000001570</petiNo>\\n          <regDate>2019-09-21 12:43:12</regDate>\\n          <title>&#44592;&#52488;&#50672;&#44552; &#49888;&#52397;&#48169;&#48277; &#48143; &#52376;&#47532;</title>\\n          <type>2</type>\\n        </QnaListInfo>\\n        <QnaListInfo>\\n          <ancName>&#44221;&#44592;&#46020; &#44305;&#47749;&#49884;</ancName>\\n          <civilNo>3900000</civilNo>\\n          <faqNo>552438</faqNo>\\n          <petiNo>A000001754</petiNo>\\n          <regDate>2019-09-21 12:41:48</regDate>\\n          <title>&#50500;&#44592;&#44032; &#53468;&#50612;&#45212;&#51648; &#50620;&#47560; &#50504;&#46104;&#49436; &#44032;&#51221;&#50640;&#49436; &#50577;&#50977;&#54616;&#44256; &#51080;&#49845;&#45768;&#45796;. &#50577;&#50977;&#49688;&#45817; &#44552;&#50529;&#51060;  ... </title>\\n          <type>2</type>\\n        </QnaListInfo>\\n        <QnaListInfo>\\n          <ancName>&#49436;&#50872;&#53945;&#48324;&#49884; &#47560;&#54252;&#44396;</ancName>\\n          <civilNo>3130000</civilNo>\\n          <faqNo>552437</faqNo>\\n          <petiNo>A000001570</petiNo>\\n          <regDate>2019-09-21 12:39:29</regDate>\\n          <title>&#51452;&#44144;&#44553;&#50668; &#49888;&#52397;</title>\\n          <type>2</type>\\n        </QnaListInfo>\\n        <QnaListInfo>\\n          <ancName>&#44221;&#44592;&#46020; &#44305;&#47749;&#49884;</ancName>\\n          <civilNo>3900000</civilNo>\\n          <faqNo>552446</faqNo>\\n          <petiNo>A000001752</petiNo>\\n          <regDate>2019-09-21 12:38:11</regDate>\\n          <title>&#51109;&#50528;&#51064; &#46321;&#47197;&#51012; &#54616;&#47140;&#44256; &#54633;&#45768;&#45796;. &#51208;&#52264;&#44032; &#50612;&#46523;&#44172; &#46104;&#51424;?</title>\\n          <type>2</type>\\n        </QnaListInfo>\\n        <QnaListInfo>\\n          <ancName>&#44221;&#44592;&#46020; &#44305;&#47749;&#49884;</ancName>\\n          <civilNo>3900000</civilNo>\\n          <faqNo>552445</faqNo>\\n          <petiNo>A000001750</petiNo>\\n          <regDate>2019-09-21 12:33:47</regDate>\\n          <title>&#44305;&#47749;&#50640;&#49436; &#50752;&#51064;&#54168;&#49828;&#54000;&#48156;&#51060; &#51080;&#45796;&#44256; &#54616;&#45912;&#45936; &#50612;&#46356;&#49436; &#50616;&#51228; &#54616;&#45716;&#44148;&#44032;&#50836;??</title>\\n          <type>2</type>\\n        </QnaListInfo>\\n        <QnaListInfo>\\n          <ancName>&#49436;&#50872;&#53945;&#48324;&#49884; &#47560;&#54252;&#44396;</ancName>\\n          <civilNo>3130000</civilNo>\\n          <faqNo>552444</faqNo>\\n          <petiNo>A000001584</petiNo>\\n          <regDate>2019-09-21 12:32:32</regDate>\\n          <title>&#50416;&#47112;&#44592;(&#45812;&#48176;&#44865;&#52488;) &#47924;&#45800;&#53804;&#44592; &#45800;&#49549; &#48143; &#44284;&#53468;&#47308; &#48512;&#44284; &#44592;&#51456;</title>\\n          <type>2</type>\\n        </QnaListInfo>\\n      </QnaListResponse>\\n    </ns2:getCivilAppealPolicyQnaListResponse>\\n    <ns3:ComMsgHeader xmlns:ns2=\"http://soap.qna.pc.acrc/\" xmlns:ns3=\"http://apache.org/headers\" xmlns:xsi=\"http://www.w3.org/2001/XMLSchema-instance\" xsi:nil=\"true\"/>\\n  </soap:Body>\\n</soap:Envelope>\\n'\n"
     ]
    }
   ],
   "source": [
    "root = list_request(10)\n",
    "print(root.tag)\n",
    "print(etree.tostring(root, pretty_print=True))"
   ]
  },
  {
   "cell_type": "code",
   "execution_count": null,
   "metadata": {},
   "outputs": [],
   "source": []
  }
 ],
 "metadata": {
  "kernelspec": {
   "display_name": "Python 3",
   "language": "python",
   "name": "python3"
  },
  "language_info": {
   "codemirror_mode": {
    "name": "ipython",
    "version": 3
   },
   "file_extension": ".py",
   "mimetype": "text/x-python",
   "name": "python",
   "nbconvert_exporter": "python",
   "pygments_lexer": "ipython3",
   "version": "3.6.5"
  }
 },
 "nbformat": 4,
 "nbformat_minor": 2
}
