{
 "cells": [
  {
   "cell_type": "code",
   "execution_count": 45,
   "metadata": {},
   "outputs": [
    {
     "ename": "NameError",
     "evalue": "name 'nowPageNo' is not defined",
     "output_type": "error",
     "traceback": [
      "\u001b[0;31m---------------------------------------------------------------------------\u001b[0m",
      "\u001b[0;31mNameError\u001b[0m                                 Traceback (most recent call last)",
      "\u001b[0;32m<ipython-input-45-74903704b07b>\u001b[0m in \u001b[0;36m<module>\u001b[0;34m\u001b[0m\n\u001b[1;32m     20\u001b[0m \u001b[0;31m# \"\"\".encode('utf8')\u001b[0m\u001b[0;34m\u001b[0m\u001b[0;34m\u001b[0m\u001b[0m\n\u001b[1;32m     21\u001b[0m \u001b[0;34m\u001b[0m\u001b[0m\n\u001b[0;32m---> 22\u001b[0;31m \u001b[0;32mfor\u001b[0m \u001b[0mi\u001b[0m \u001b[0;32min\u001b[0m \u001b[0mnowPageNo\u001b[0m\u001b[0;34m:\u001b[0m\u001b[0;34m\u001b[0m\u001b[0m\n\u001b[0m\u001b[1;32m     23\u001b[0m         body = \"\"\"\n\u001b[1;32m     24\u001b[0m \u001b[0;34m<\u001b[0m\u001b[0msoap\u001b[0m\u001b[0;34m:\u001b[0m\u001b[0mEnvelope\u001b[0m \u001b[0mxmlns\u001b[0m\u001b[0;34m:\u001b[0m\u001b[0msoap\u001b[0m\u001b[0;34m=\u001b[0m\u001b[0;34m\"http://schemas.xmlsoap.org/soap/envelope/\"\u001b[0m \u001b[0mxmlns\u001b[0m\u001b[0;34m:\u001b[0m\u001b[0mns3\u001b[0m\u001b[0;34m=\u001b[0m\u001b[0;34m\"http://apache.org/headers\"\u001b[0m \u001b[0mxmlns\u001b[0m\u001b[0;34m:\u001b[0m\u001b[0mns2\u001b[0m\u001b[0;34m=\u001b[0m\u001b[0;34m\"http://soap.qna.pc.acrc/\"\u001b[0m \u001b[0mxmlns\u001b[0m\u001b[0;34m:\u001b[0m\u001b[0mxsi\u001b[0m\u001b[0;34m=\u001b[0m\u001b[0;34m\"http://www.w3.org/2001/XMLSchema-instance\"\u001b[0m \u001b[0mxsi\u001b[0m\u001b[0;34m:\u001b[0m\u001b[0mnil\u001b[0m\u001b[0;34m=\u001b[0m\u001b[0;34m\"true\"\u001b[0m\u001b[0;34m>\u001b[0m\u001b[0;34m\u001b[0m\u001b[0m\n",
      "\u001b[0;31mNameError\u001b[0m: name 'nowPageNo' is not defined"
     ]
    }
   ],
   "source": [
    "import requests\n",
    "url=\"http://api.epeople.go.kr/soap/CivilAppealPolicyQnAService?wsdl\"\n",
    "headers = {'content-type': 'text/xml; charset=UTF-8'}\n",
    "# body = \"\"\"\n",
    "# <soap:Envelope xmlns:soap=\"http://schemas.xmlsoap.org/soap/envelope/\" xmlns:ns3=\"http://apache.org/headers\" xmlns:ns2=\"http://soap.qna.pc.acrc/\" xmlns:xsi=\"http://www.w3.org/2001/XMLSchema-instance\" xsi:nil=\"true\">\n",
    "#    <soap:Header>\n",
    "\n",
    "#    </soap:Header>\n",
    "#    <soap:Body>\n",
    "#       <ns2:getCivilAppealPolicyQnaItem>\n",
    "#          <QnaItemRequest>\n",
    "#             <faqNo>551417</faqNo>\n",
    "#             <petiNo>A000001570</petiNo>\n",
    "#             <civilNo>3130000</civilNo>\n",
    "#             <type>3</type>\n",
    "#          </QnaItemRequest>\n",
    "#       </ns2:getCivilAppealPolicyQnaItem>\n",
    "#    </soap:Body>\n",
    "# </soap:Envelope>\n",
    "# \"\"\".encode('utf8')\n",
    "\n",
    "\n",
    "body = \"\"\"\n",
    "<soap:Envelope xmlns:soap=\"http://schemas.xmlsoap.org/soap/envelope/\" xmlns:ns3=\"http://apache.org/headers\" xmlns:ns2=\"http://soap.qna.pc.acrc/\" xmlns:xsi=\"http://www.w3.org/2001/XMLSchema-instance\" xsi:nil=\"true\">\n",
    "   <soap:Header>\n",
    "\n",
    "   </soap:Header>\n",
    "   <soap:Body>\n",
    "      <ns2:getCivilAppealPolicyQnaList>\n",
    "         <QnaListRequest>\n",
    "            <type>1</type>\n",
    "            <nowPageNo>3061</nowPageNo>\n",
    "            <keyword>법</keyword>\n",
    "            <pageMg>10</pageMg>\n",
    "         </QnaListRequest>\n",
    "      </ns2:getCivilAppealPolicyQnaList>\n",
    "   </soap:Body>\n",
    "</soap:Envelope>\n",
    "\"\"\".encode('utf8')\n",
    "\n",
    "response = requests.post(url,data=body,headers=headers)\n",
    "print(response.content.decode('utf8'))"
   ]
  },
  {
   "cell_type": "code",
   "execution_count": null,
   "metadata": {},
   "outputs": [],
   "source": []
  }
 ],
 "metadata": {
  "kernelspec": {
   "display_name": "Python 3",
   "language": "python",
   "name": "python3"
  },
  "language_info": {
   "codemirror_mode": {
    "name": "ipython",
    "version": 3
   },
   "file_extension": ".py",
   "mimetype": "text/x-python",
   "name": "python",
   "nbconvert_exporter": "python",
   "pygments_lexer": "ipython3",
   "version": "3.6.5"
  }
 },
 "nbformat": 4,
 "nbformat_minor": 2
}
